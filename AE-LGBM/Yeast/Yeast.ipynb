{
 "cells": [
  {
   "cell_type": "code",
   "execution_count": 1,
   "metadata": {
    "collapsed": false,
    "pycharm": {
     "name": "#%%\n"
    }
   },
   "outputs": [
    {
     "name": "stdout",
     "output_type": "stream",
     "text": [
      "d:\\NCSI\\3 - Thuc nghiem\\ModifiedModel\\AE_LGBM_2020\\mod_AE_LGBM\\Human\n"
     ]
    }
   ],
   "source": [
    "import os\n",
    "import sys\n",
    "\n",
    "root_dir = os.getcwd()\n",
    "print(root_dir)"
   ]
  },
  {
   "cell_type": "code",
   "execution_count": 2,
   "metadata": {
    "collapsed": true
   },
   "outputs": [
    {
     "name": "stdout",
     "output_type": "stream",
     "text": [
      "d:\\NCSI\\3 - Thuc nghiem\\ModifiedModel\\AE_LGBM_2020\\mod_AE_LGBM\\Human\n",
      "(8161, 1232)\n"
     ]
    }
   ],
   "source": [
    "import pandas as pd\n",
    "from tensorflow.keras import Sequential\n",
    "from tensorflow.keras.layers import Dense, Dropout\n",
    "\n",
    "print(root_dir)\n",
    "os.chdir(r\"D:\\NCSI\\3 - Thuc nghiem\\ModifiedModel\\AE_LGBM_2020\\mod_AE_LGBM\\Yeast\")\n",
    "\n",
    "\n",
    "label = pd.read_csv(\"label.csv\")\n",
    "# print(label)\n",
    "feat_a = pd.read_csv(\"total_features_a.csv\")\n",
    "# print(feat_a)\n",
    "feat_b = pd.read_csv(\"total_features_b.csv\")\n",
    "# print(feat_b)\n",
    "feat_all = pd.concat([feat_a, feat_b], axis=1)\n",
    "print(feat_all.shape)\n",
    "\n",
    "X_no_enc = feat_all.values\n",
    "y_no_enc = label.values"
   ]
  },
  {
   "cell_type": "markdown",
   "metadata": {
    "collapsed": false
   },
   "source": [
    "# Tạo AutoEncoder A, B; huấn luyện và mã hóa"
   ]
  },
  {
   "cell_type": "code",
   "execution_count": 3,
   "metadata": {
    "collapsed": false,
    "pycharm": {
     "name": "#%%\n"
    }
   },
   "outputs": [],
   "source": [
    "from tensorflow.keras import Model\n",
    "def AE_net(n_col, k = 208):\n",
    "    model_AE = Sequential(\n",
    "        [\n",
    "            Dense(k, activation = 'sigmoid', input_shape=(n_col,)),\n",
    "            Dropout(rate = 0.2),\n",
    "            Dense(n_col, activation = 'sigmoid', input_shape=(k,))\n",
    "        ]\n",
    "    )\n",
    "\n",
    "    # Constructing Autoencoder\n",
    "    model_AE.compile(optimizer='nadam',\n",
    "                      loss= 'mean_squared_error',\n",
    "                      metrics = \"accuracy\")\n",
    "\n",
    "    # model_AE1.summary()\n",
    "    enc_net = Model(inputs=model_AE.input,\n",
    "                    outputs=model_AE.layers[1].output)\n",
    "    # enc_net.summary()\n",
    "    return model_AE, enc_net"
   ]
  },
  {
   "cell_type": "code",
   "execution_count": 4,
   "metadata": {
    "collapsed": false,
    "pycharm": {
     "name": "#%%\n"
    }
   },
   "outputs": [
    {
     "name": "stdout",
     "output_type": "stream",
     "text": [
      "\n",
      "Huan luyen AE 1...\n",
      "feat_a (8161, 616)\n"
     ]
    }
   ],
   "source": [
    "#Initialize the Autoencoder for chain A. B\n",
    "k = 208\n",
    "n_col = feat_a.shape[1]\n",
    "model_AE1, enc_a = AE_net(n_col, k)\n",
    "\n",
    "# Fitting the Autoencoder\n",
    "print(\"\\nHuan luyen AE 1...\")\n",
    "print(f\"feat_a {feat_a.shape}\")\n",
    "history_a = model_AE1.fit(feat_a, feat_a,\n",
    "                          epochs=200,\n",
    "                          batch_size=50,\n",
    "                          validation_split = 0.2,\n",
    "                          verbose=0)\n",
    "\n",
    "feat_a_enc = enc_a.predict(feat_a)\n",
    "print(f\"feat_a_enc {feat_a_enc.shape}\")"
   ]
  },
  {
   "cell_type": "code",
   "execution_count": null,
   "metadata": {
    "collapsed": false,
    "pycharm": {
     "name": "#%%\n"
    }
   },
   "outputs": [
    {
     "name": "stdout",
     "output_type": "stream",
     "text": [
      "\n",
      "Huan luyen AE 2...\n",
      "feat_b (8161, 616)\n",
      "(8161, 208)\n"
     ]
    }
   ],
   "source": [
    "print(\"\\nHuan luyen AE 2...\")\n",
    "print(f\"feat_b {feat_b.shape}\")\n",
    "model_AE2, enc_b = AE_net(n_col, k)\n",
    "history_b = model_AE2.fit(feat_b, feat_b,\n",
    "                          epochs=200,\n",
    "                          batch_size=50,\n",
    "                          validation_split = 0.2,\n",
    "                          verbose=0)\n",
    "\n",
    "feat_b_enc = enc_b.predict(feat_b)\n",
    "print(feat_b_enc.shape)"
   ]
  },
  {
   "cell_type": "code",
   "execution_count": null,
   "metadata": {
    "collapsed": false,
    "pycharm": {
     "name": "#%%\n"
    }
   },
   "outputs": [
    {
     "name": "stdout",
     "output_type": "stream",
     "text": [
      "(8161, 416)\n"
     ]
    }
   ],
   "source": [
    "import numpy as np\n",
    "\n",
    "feat_all_enc = np.concatenate((feat_a_enc, feat_b_enc), axis=1)\n",
    "print(feat_all_enc.shape)"
   ]
  },
  {
   "cell_type": "code",
   "execution_count": null,
   "metadata": {
    "collapsed": false,
    "pycharm": {
     "name": "#%%\n"
    }
   },
   "outputs": [
    {
     "name": "stdout",
     "output_type": "stream",
     "text": [
      "[[1]\n",
      " [1]\n",
      " [1]\n",
      " ...\n",
      " [0]\n",
      " [0]\n",
      " [0]]\n"
     ]
    }
   ],
   "source": [
    "import numpy as np\n",
    "\n",
    "X_tr = np.copy(feat_all_enc)\n",
    "y_tr = np.copy(label)\n",
    "y_tr[y_tr == -1] = 0\n",
    "print(y_tr)"
   ]
  },
  {
   "cell_type": "code",
   "execution_count": null,
   "metadata": {
    "collapsed": false,
    "pycharm": {
     "name": "#%%\n"
    }
   },
   "outputs": [
    {
     "name": "stdout",
     "output_type": "stream",
     "text": [
      "\n",
      "StratifiedKFold(n_splits=5, random_state=48, shuffle=True)...\n",
      "[0.98040416 0.98284314 0.98161765 0.97977941 0.98529412]\n",
      "mean 0.9820, std 0.002\n"
     ]
    }
   ],
   "source": [
    "import lightgbm as lgb\n",
    "\n",
    "from sklearn.model_selection import StratifiedKFold, cross_val_score\n",
    "from sklearn.pipeline import Pipeline\n",
    "\n",
    "gbm = lgb.LGBMClassifier(\n",
    "    n_estimators=500, # 500\n",
    "    num_leaves=80,  # 80\n",
    "    # learning_rate=0.1,  # 0.05\n",
    "    # max_depth=10,\n",
    "    #  feature_fraction=0.9,\n",
    "    # bagging_fraction=0.8,\n",
    "    # bagging_freq=5,\n",
    ")\n",
    "\n",
    "# gbm = lgb.LGBMClassifier(**params)\n",
    "\n",
    "# pipeline = Pipeline([('transformer', t), ('estimator', gbm)])\n",
    "cv = StratifiedKFold(n_splits=5, random_state=48, shuffle=True)\n",
    "print(f'\\n{cv.__str__()}...')\n",
    "scr = cross_val_score(estimator=gbm,\n",
    "                      X=X_tr, y=y_tr, cv=cv, n_jobs=2)\n",
    "print(scr)\n",
    "print(f\"mean {np.mean(scr):0.4f}, std {np.std(scr):0.3f}\")"
   ]
  },
  {
   "cell_type": "code",
   "execution_count": null,
   "metadata": {
    "collapsed": false,
    "pycharm": {
     "name": "#%%\n"
    }
   },
   "outputs": [
    {
     "name": "stderr",
     "output_type": "stream",
     "text": [
      "c:\\Users\\thnha\\Anaconda3\\envs\\TFCONDA26\\lib\\site-packages\\sklearn\\preprocessing\\_label.py:98: DataConversionWarning: A column-vector y was passed when a 1d array was expected. Please change the shape of y to (n_samples, ), for example using ravel().\n",
      "  y = column_or_1d(y, warn=True)\n",
      "c:\\Users\\thnha\\Anaconda3\\envs\\TFCONDA26\\lib\\site-packages\\sklearn\\preprocessing\\_label.py:133: DataConversionWarning: A column-vector y was passed when a 1d array was expected. Please change the shape of y to (n_samples, ), for example using ravel().\n",
      "  y = column_or_1d(y, warn=True)\n"
     ]
    }
   ],
   "source": [
    "import lightgbm as lgb\n",
    "\n",
    "gbm = lgb.LGBMClassifier(\n",
    "    n_estimators=500,\n",
    "    num_leaves=80,\n",
    "    learning_rate=0.1,  # 0.05\n",
    ")\n",
    "\n",
    "gbm = gbm.fit(X_tr, y_tr)"
   ]
  },
  {
   "cell_type": "code",
   "execution_count": null,
   "metadata": {
    "collapsed": false,
    "pycharm": {
     "name": "#%%\n"
    }
   },
   "outputs": [
    {
     "name": "stdout",
     "output_type": "stream",
     "text": [
      "data_te (4013, 416)\n"
     ]
    }
   ],
   "source": [
    "import os\n",
    "# load test\n",
    "os.chdir(r\"D:\\NCSI\\3 - Thuc nghiem\\ModifiedModel\\AE_LGBM_2020\\mod_AE_LGBM\\Independent Species\\Ecoli\")\n",
    "feat_a = pd.read_csv(\"total_features_a.csv\")\n",
    "feat_a = enc_a.predict(feat_a)\n",
    "\n",
    "feat_b = pd.read_csv(\"total_features_b.csv\")\n",
    "feat_b = enc_b.predict(feat_b)\n",
    "\n",
    "data_te = np.concatenate((feat_a, feat_b), axis=1)\n",
    "print('data_te', data_te.shape)\n",
    "label_te = [1] * data_te.shape[0]"
   ]
  },
  {
   "cell_type": "code",
   "execution_count": null,
   "metadata": {
    "collapsed": false,
    "pycharm": {
     "name": "#%%\n"
    }
   },
   "outputs": [
    {
     "name": "stdout",
     "output_type": "stream",
     "text": [
      "0.9982556690755046\n"
     ]
    }
   ],
   "source": [
    "print(gbm.score(data_te, label_te))"
   ]
  },
  {
   "cell_type": "code",
   "execution_count": null,
   "metadata": {
    "collapsed": false,
    "pycharm": {
     "name": "#%%\n"
    }
   },
   "outputs": [
    {
     "data": {
      "text/plain": [
       "1.0"
      ]
     },
     "execution_count": 38,
     "metadata": {},
     "output_type": "execute_result"
    }
   ],
   "source": [
    "gbm.score(X_tr, y_tr)"
   ]
  },
  {
   "cell_type": "code",
   "execution_count": null,
   "metadata": {
    "collapsed": false,
    "pycharm": {
     "name": "#%%\n"
    }
   },
   "outputs": [],
   "source": []
  }
 ],
 "metadata": {
  "kernelspec": {
   "display_name": "TFCONDA26",
   "language": "python",
   "name": "python3"
  },
  "language_info": {
   "codemirror_mode": {
    "name": "ipython",
    "version": 3
   },
   "file_extension": ".py",
   "mimetype": "text/x-python",
   "name": "python",
   "nbconvert_exporter": "python",
   "pygments_lexer": "ipython3",
   "version": "3.7.11"
  }
 },
 "nbformat": 4,
 "nbformat_minor": 0
}
