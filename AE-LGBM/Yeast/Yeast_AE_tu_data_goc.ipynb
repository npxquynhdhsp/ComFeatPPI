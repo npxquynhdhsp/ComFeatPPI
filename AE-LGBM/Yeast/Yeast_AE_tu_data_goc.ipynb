{
 "cells": [
  {
   "attachments": {},
   "cell_type": "markdown",
   "metadata": {},
   "source": [
    "# SỬ DỤNG LẠI MÔ HÌNH ĐÃ ĐƯỢC HUẤN LUYỆN CỦA BÀI BÀO GỐC"
   ]
  },
  {
   "cell_type": "code",
   "execution_count": 2,
   "metadata": {
    "collapsed": false,
    "pycharm": {
     "name": "#%%\n"
    }
   },
   "outputs": [],
   "source": [
    "import pandas as pd\n",
    "from tensorflow.keras import Sequential\n",
    "from tensorflow.keras.layers import Dense, Dropout"
   ]
  },
  {
   "cell_type": "code",
   "execution_count": 3,
   "metadata": {},
   "outputs": [
    {
     "name": "stdout",
     "output_type": "stream",
     "text": [
      "(11188, 1232)\n"
     ]
    }
   ],
   "source": [
    "import os\n",
    "\n",
    "os.chdir(r\"D:\\NCSI\\3 - Thuc nghiem\\ModifiedModel\\AE_LGBM_2020\\mod_AE_LGBM\\_original\\Yeast\")\n",
    "\n",
    "label = pd.read_csv(\"label.csv\")\n",
    "feat_a = pd.read_csv(\"total_features_a.csv\")\n",
    "feat_b = pd.read_csv(\"total_features_b.csv\")\n",
    "feat_all = pd.concat([feat_a, feat_b], axis=1)\n",
    "print(feat_all.shape)"
   ]
  },
  {
   "cell_type": "code",
   "execution_count": 4,
   "metadata": {},
   "outputs": [
    {
     "name": "stdout",
     "output_type": "stream",
     "text": [
      "Model: \"sequential_2\"\n",
      "_________________________________________________________________\n",
      "Layer (type)                 Output Shape              Param #   \n",
      "=================================================================\n",
      "dense_4 (Dense)              (None, 202)               124634    \n",
      "_________________________________________________________________\n",
      "dropout_2 (Dropout)          (None, 202)               0         \n",
      "_________________________________________________________________\n",
      "dense_5 (Dense)              (None, 616)               125048    \n",
      "=================================================================\n",
      "Total params: 249,682\n",
      "Trainable params: 249,682\n",
      "Non-trainable params: 0\n",
      "_________________________________________________________________\n",
      "None\n",
      "(11188, 616)\n",
      "Model: \"sequential_3\"\n",
      "_________________________________________________________________\n",
      "Layer (type)                 Output Shape              Param #   \n",
      "=================================================================\n",
      "dense_6 (Dense)              (None, 202)               124634    \n",
      "_________________________________________________________________\n",
      "dropout_3 (Dropout)          (None, 202)               0         \n",
      "_________________________________________________________________\n",
      "dense_7 (Dense)              (None, 616)               125048    \n",
      "=================================================================\n",
      "Total params: 249,682\n",
      "Trainable params: 249,682\n",
      "Non-trainable params: 0\n",
      "_________________________________________________________________\n",
      "None\n",
      "(11188, 616)\n"
     ]
    }
   ],
   "source": [
    "from tensorflow.keras.models import load_model\n",
    "enc_a = load_model(\"AE_Yeast_a_.h5\")\n",
    "print(enc_a.summary())\n",
    "\n",
    "X_no_enc = feat_all.values\n",
    "y_no_enc = label.values\n",
    "\n",
    "feat_a_enc = enc_a.predict(feat_a)\n",
    "print(feat_a_enc.shape)\n",
    "\n",
    "enc_b = load_model(\"AE_Yeast_b_.h5\")\n",
    "print(enc_b.summary())\n",
    "\n",
    "feat_b_enc = enc_b.predict(feat_b)\n",
    "print(feat_b_enc.shape)"
   ]
  },
  {
   "cell_type": "code",
   "execution_count": 5,
   "metadata": {
    "collapsed": false,
    "pycharm": {
     "name": "#%%\n"
    }
   },
   "outputs": [
    {
     "name": "stdout",
     "output_type": "stream",
     "text": [
      "Human new trainning set (11188, 1232)\n"
     ]
    }
   ],
   "source": [
    "import numpy as np\n",
    "\n",
    "feat_all_enc = np.concatenate((feat_a_enc, feat_b_enc), axis=1)\n",
    "print('Human new trainning set', feat_all_enc.shape)"
   ]
  },
  {
   "cell_type": "code",
   "execution_count": 6,
   "metadata": {
    "collapsed": false,
    "pycharm": {
     "name": "#%%\n"
    }
   },
   "outputs": [
    {
     "name": "stdout",
     "output_type": "stream",
     "text": [
      "[[1]\n",
      " [1]\n",
      " [1]\n",
      " ...\n",
      " [0]\n",
      " [0]\n",
      " [0]]\n"
     ]
    }
   ],
   "source": [
    "import numpy as np\n",
    "\n",
    "X_tr = np.copy(feat_all_enc)\n",
    "y_tr = np.copy(label)\n",
    "y_tr[y_tr == -1] = 0\n",
    "print(y_tr)"
   ]
  },
  {
   "cell_type": "code",
   "execution_count": 10,
   "metadata": {
    "collapsed": false,
    "pycharm": {
     "name": "#%%\n"
    }
   },
   "outputs": [
    {
     "name": "stdout",
     "output_type": "stream",
     "text": [
      "\n",
      "StratifiedKFold(n_splits=5, random_state=48, shuffle=True)...\n"
     ]
    }
   ],
   "source": [
    "import lightgbm as lgb\n",
    "\n",
    "from sklearn.model_selection import StratifiedKFold, cross_val_score\n",
    "from sklearn.pipeline import Pipeline\n",
    "\n",
    "gbm = lgb.LGBMClassifier(\n",
    "    n_estimators=500, # 500\n",
    "    num_leaves=50,  # 80\n",
    "    learning_rate=0.05\n",
    "    # max_depth=10,\n",
    "    # feature_fraction=0.9,\n",
    "    # bagging_fraction=0.8,\n",
    "    # bagging_freq=5,\n",
    ")\n",
    "\n",
    "# gbm = lgb.LGBMClassifier(**params)\n",
    "\n",
    "# pipeline = Pipeline([('transformer', t), ('estimator', gbm)])\n",
    "cv = StratifiedKFold(n_splits=5, random_state=48, shuffle=True)\n",
    "print(f'\\n{cv.__str__()}...')\n",
    "scr = cross_val_score(estimator=gbm, X=X_tr, y=y_tr, cv=cv, n_jobs=2)"
   ]
  },
  {
   "cell_type": "code",
   "execution_count": 11,
   "metadata": {},
   "outputs": [
    {
     "name": "stdout",
     "output_type": "stream",
     "text": [
      "[0.95263628 0.95487042 0.95040214 0.9606616  0.95529727]\n",
      "mean 0.9548, std 0.003\n"
     ]
    }
   ],
   "source": [
    "print(scr)\n",
    "print(\"mean {:0.4f}, std {:0.3f}\".format(np.mean(scr), np.std(scr)))"
   ]
  },
  {
   "cell_type": "code",
   "execution_count": 12,
   "metadata": {
    "collapsed": false,
    "pycharm": {
     "name": "#%%\n"
    }
   },
   "outputs": [
    {
     "data": {
      "text/plain": [
       "LGBMClassifier(learning_rate=0.05, n_estimators=500, num_leaves=50)"
      ]
     },
     "execution_count": 12,
     "metadata": {},
     "output_type": "execute_result"
    }
   ],
   "source": [
    "import lightgbm as lgb\n",
    "\n",
    "gbm = lgb.LGBMClassifier(\n",
    "    n_estimators=500,\n",
    "    num_leaves=50,\n",
    "    learning_rate=0.05\n",
    ")\n",
    "\n",
    "gbm.fit(X_tr, y_tr.ravel())"
   ]
  },
  {
   "attachments": {},
   "cell_type": "markdown",
   "metadata": {},
   "source": [
    "# TEST TRÊN TẬP ĐỘC LẬP"
   ]
  },
  {
   "cell_type": "code",
   "execution_count": 13,
   "metadata": {
    "collapsed": false,
    "pycharm": {
     "name": "#%%\n"
    }
   },
   "outputs": [
    {
     "name": "stdout",
     "output_type": "stream",
     "text": [
      "data_te (6954, 1232)\n"
     ]
    }
   ],
   "source": [
    "import os\n",
    "os.chdir(r\"D:\\NCSI\\3 - Thuc nghiem\\ModifiedModel\\AE_LGBM_2020\\mod_AE_LGBM\\Independent Species\\Ecoli\")\n",
    "feat_a = pd.read_csv(\"total_features_a.csv\")\n",
    "feat_a = enc_a.predict(feat_a)\n",
    "\n",
    "feat_b = pd.read_csv(\"total_features_b.csv\")\n",
    "feat_b = enc_b.predict(feat_b)\n",
    "\n",
    "data_te = np.concatenate((feat_a, feat_b), axis=1)\n",
    "print('data_te', data_te.shape)\n",
    "label_te = [1] * data_te.shape[0]"
   ]
  },
  {
   "cell_type": "code",
   "execution_count": 14,
   "metadata": {
    "collapsed": false,
    "pycharm": {
     "name": "#%%\n"
    }
   },
   "outputs": [
    {
     "name": "stdout",
     "output_type": "stream",
     "text": [
      "0.8771929824561403\n",
      "0.8772\n"
     ]
    }
   ],
   "source": [
    "print(gbm.score(data_te, label_te))\n",
    "print(\"{:.4f}\".format(gbm.score(data_te, label_te)))"
   ]
  },
  {
   "cell_type": "code",
   "execution_count": null,
   "metadata": {},
   "outputs": [],
   "source": []
  }
 ],
 "metadata": {
  "kernelspec": {
   "display_name": "TFCONDA26",
   "language": "python",
   "name": "python3"
  },
  "language_info": {
   "codemirror_mode": {
    "name": "ipython",
    "version": 3
   },
   "file_extension": ".py",
   "mimetype": "text/x-python",
   "name": "python",
   "nbconvert_exporter": "python",
   "pygments_lexer": "ipython3",
   "version": "3.7.11"
  }
 },
 "nbformat": 4,
 "nbformat_minor": 0
}
